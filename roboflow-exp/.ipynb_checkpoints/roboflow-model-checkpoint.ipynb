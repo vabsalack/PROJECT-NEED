{
 "cells": [
  {
   "cell_type": "markdown",
   "id": "ffe7f77d",
   "metadata": {},
   "source": [
    "## Inference ROBOFLOW model"
   ]
  },
  {
   "cell_type": "code",
   "execution_count": 1,
   "id": "1378c482",
   "metadata": {},
   "outputs": [
    {
     "data": {
      "text/plain": [
       "'/home/keva/Documents/PROJECT-NEED/roboflow-exp'"
      ]
     },
     "execution_count": 1,
     "metadata": {},
     "output_type": "execute_result"
    }
   ],
   "source": [
    "pwd"
   ]
  },
  {
   "cell_type": "code",
   "execution_count": 2,
   "id": "ea75f953",
   "metadata": {},
   "outputs": [
    {
     "name": "stdout",
     "output_type": "stream",
     "text": [
      "loading Roboflow workspace...\n",
      "loading Roboflow project...\n"
     ]
    }
   ],
   "source": [
    "from roboflow import Roboflow\n",
    "\n",
    "rf = Roboflow(api_key=\"TBLNVAbVweACkVXGUYfl\")\n",
    "project = rf.workspace().project(\"project-need\")\n",
    "model = project.version(1).model"
   ]
  },
  {
   "cell_type": "code",
   "execution_count": 3,
   "id": "50f24a74",
   "metadata": {},
   "outputs": [],
   "source": [
    "\n",
    "image_folder = \"/home/keva/Desktop/\"\n",
    "output_folder = \"/home/keva/Documents/PROJECT-NEED/roboflow-exp/roboflow-output/\"\n",
    "\n",
    "image_name = \"ec84460c-1030_1624514837665_1_jpg.rf.5a7c143ec0c44fd7cffc4f21bd5f2d7c.jpg\"\n",
    "image_path = image_folder + image_name\n",
    "output_path = output_folder + image_name\n",
    "\n",
    "# infer on a local image\n",
    "#print(model.predict(image_path,\n",
    "#                   confidence=40,\n",
    "#                    overlap=30).json())\n",
    "\n",
    "# visualize your prediction\n",
    "model.predict(image_path,\n",
    "              confidence=40,\n",
    "              overlap=30).save(output_path)\n",
    "\n",
    "# infer on an image hosted elsewhere\n",
    "# print(model.predict(\"URL_OF_YOUR_IMAGE\", hosted=True, confidence=40, overlap=30).json())"
   ]
  },
  {
   "cell_type": "code",
   "execution_count": null,
   "id": "10894ccc",
   "metadata": {},
   "outputs": [],
   "source": []
  },
  {
   "cell_type": "code",
   "execution_count": null,
   "id": "518f742c",
   "metadata": {},
   "outputs": [],
   "source": []
  }
 ],
 "metadata": {
  "kernelspec": {
   "display_name": "Python 3 (ipykernel)",
   "language": "python",
   "name": "python3"
  },
  "language_info": {
   "codemirror_mode": {
    "name": "ipython",
    "version": 3
   },
   "file_extension": ".py",
   "mimetype": "text/x-python",
   "name": "python",
   "nbconvert_exporter": "python",
   "pygments_lexer": "ipython3",
   "version": "3.9.16"
  }
 },
 "nbformat": 4,
 "nbformat_minor": 5
}
