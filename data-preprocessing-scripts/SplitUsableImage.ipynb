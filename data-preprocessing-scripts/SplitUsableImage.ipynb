{
 "cells": [
  {
   "cell_type": "code",
   "execution_count": 3,
   "metadata": {
    "collapsed": true
   },
   "outputs": [],
   "source": [
    "import os\n",
    "import openpyxl"
   ]
  },
  {
   "cell_type": "code",
   "execution_count": 4,
   "outputs": [],
   "source": [
    "spread_sheet_path = \"/home/keva/Documents/KneeSegmentationProject/KneeSegPych/DataPreprocessing/evaluation_parameter.xlsx\"\n",
    "original_image_path = \"/home/keva/Documents/KneeSegmentationProject/Data/KneeXray/ActualImage/\"\n",
    "target_path1 = \"/home/keva/Documents/KneeSegmentationProject/Data/KneeXray/UsableImages/\"\n",
    "target_path2 = \"/home/keva/Documents/KneeSegmentationProject/Data/KneeXray/ClutteredImages/\""
   ],
   "metadata": {
    "collapsed": false
   }
  },
  {
   "cell_type": "code",
   "execution_count": 7,
   "outputs": [
    {
     "data": {
      "text/plain": "['Sheet1', 'Sheet1 Copy']"
     },
     "execution_count": 7,
     "metadata": {},
     "output_type": "execute_result"
    }
   ],
   "source": [
    "workbook = openpyxl.load_workbook(spread_sheet_path)\n",
    "names = workbook.sheetnames\n",
    "names"
   ],
   "metadata": {
    "collapsed": false
   }
  },
  {
   "cell_type": "code",
   "execution_count": 8,
   "outputs": [],
   "source": [
    "sheet = workbook[names[1]]"
   ],
   "metadata": {
    "collapsed": false
   }
  },
  {
   "cell_type": "code",
   "execution_count": 9,
   "outputs": [
    {
     "name": "stdout",
     "output_type": "stream",
     "text": [
      "('Images Name', 'Evaluation Parameters', 'USABLE IMAGES')\n"
     ]
    }
   ],
   "source": [
    "for row in sheet.iter_rows(min_row=1,\n",
    "                           max_row=1,\n",
    "                           values_only=True):\n",
    "    print(row)"
   ],
   "metadata": {
    "collapsed": false
   }
  },
  {
   "cell_type": "code",
   "execution_count": 14,
   "outputs": [
    {
     "name": "stdout",
     "output_type": "stream",
     "text": [
      "Usable Images\n",
      "10_1607489831714_2.jpg\n",
      "100_1615874660572_3.jpg\n",
      ".\n",
      ".\n",
      ".\n",
      "996_1630389897483_3.jpg\n",
      "998_1602738976672_1.jpg\n",
      "Total Usable: 1208\n",
      "\n",
      "\n",
      "Non-usable Images\n",
      "1_1630663195735_1.jpg\n",
      "1006_1625555332768_1.jpg\n",
      ".\n",
      ".\n",
      ".\n",
      "997_1630389898400_1.jpg\n",
      "999_1602738977188_1.jpg\n",
      "Total Usable: 191\n"
     ]
    }
   ],
   "source": [
    "usable = list()\n",
    "non_usable = list()\n",
    "for row in sheet.iter_rows(min_row=2,\n",
    "                           values_only=True):\n",
    "    image_name = row[0]\n",
    "    if row[2] == 1:\n",
    "        usable.append(image_name)\n",
    "    else:\n",
    "        non_usable.append(image_name)\n",
    "\n",
    "print(\"Usable Images\",\n",
    "      *usable[:2],\n",
    "      *[\".\", \".\", \".\"],\n",
    "      *usable[-2:],\n",
    "      f\"Total Usable: {len(usable)}\",\n",
    "      \"\\n\",\n",
    "      \"Non-usable Images\",\n",
    "      *non_usable[:2],\n",
    "      *[\".\", \".\", \".\"],\n",
    "      *non_usable[-2:],\n",
    "      f\"Total Usable: {len(non_usable)}\",\n",
    "      sep=\"\\n\")"
   ],
   "metadata": {
    "collapsed": false
   }
  },
  {
   "cell_type": "code",
   "execution_count": 16,
   "outputs": [],
   "source": [
    "def move_file(old_path, new_path, image_name):\n",
    "    image = old_path + image_name\n",
    "    target = new_path + image_name\n",
    "    os.rename(image, target)"
   ],
   "metadata": {
    "collapsed": false
   }
  },
  {
   "cell_type": "code",
   "execution_count": 19,
   "outputs": [],
   "source": [
    "for name in usable:\n",
    "    move_file(original_image_path, target_path1, name)\n",
    "\n",
    "for name in non_usable:\n",
    "    move_file(original_image_path, target_path2, name)"
   ],
   "metadata": {
    "collapsed": false
   }
  },
  {
   "cell_type": "code",
   "execution_count": null,
   "outputs": [],
   "source": [],
   "metadata": {
    "collapsed": false
   }
  }
 ],
 "metadata": {
  "kernelspec": {
   "display_name": "Python 3",
   "language": "python",
   "name": "python3"
  },
  "language_info": {
   "codemirror_mode": {
    "name": "ipython",
    "version": 2
   },
   "file_extension": ".py",
   "mimetype": "text/x-python",
   "name": "python",
   "nbconvert_exporter": "python",
   "pygments_lexer": "ipython2",
   "version": "2.7.6"
  }
 },
 "nbformat": 4,
 "nbformat_minor": 0
}
